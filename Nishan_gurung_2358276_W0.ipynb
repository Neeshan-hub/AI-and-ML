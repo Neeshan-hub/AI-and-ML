{
  "nbformat": 4,
  "nbformat_minor": 0,
  "metadata": {
    "colab": {
      "provenance": [],
      "collapsed_sections": [
        "ZVeviYPKX8yq",
        "xeN7jFZOmm_6"
      ]
    },
    "kernelspec": {
      "name": "python3",
      "display_name": "Python 3"
    },
    "language_info": {
      "name": "python"
    }
  },
  "cells": [
    {
      "cell_type": "markdown",
      "source": [
        "# Exercise on Functions"
      ],
      "metadata": {
        "id": "ZVeviYPKX8yq"
      }
    },
    {
      "cell_type": "markdown",
      "source": [
        "## Task - 1:"
      ],
      "metadata": {
        "id": "LuQKznhWYApp"
      }
    },
    {
      "cell_type": "code",
      "execution_count": null,
      "metadata": {
        "id": "47E5M0rBXiqx"
      },
      "outputs": [],
      "source": [
        "def convert_length(value, from_unit):\n",
        "  if(from_unit == \"m\"):\n",
        "    return value * 3.28084\n",
        "  elif(from_unit == \"ft\"):\n",
        "    return value / 3.28084\n",
        "  else:\n",
        "    return \"Invalid Unit\"\n",
        "\n",
        "def convert_weight(value, from_unit):\n",
        "  if(from_unit == \"kg\"):\n",
        "    return value * 2.20462\n",
        "  elif(from_unit == \"lb\"):\n",
        "    return value / 2.20462\n",
        "  else:\n",
        "    return \"Invalid Unit\"\n",
        "\n",
        "def convert_volume(value, from_unit):\n",
        "  if(from_unit == \"L\"):\n",
        "    return value * 0.264172\n",
        "  elif(from_unit == \"gal\"):\n",
        "    return value / 0.264172\n",
        "  else:\n",
        "    return \"Invalid Unit\"\n",
        "\n",
        "\n",
        "def main():\n",
        "  print(\"Unit conversion\")\n",
        "\n",
        "  try:\n",
        "    conversion_type = int(input(\"Choose 1 for length, 2 for weight, 3 for volume: \"))\n",
        "    value = float(input(\"Enter the value: \"))\n",
        "\n",
        "    if(conversion_type == 1):\n",
        "      from_unit = input(\"Enter the unit to convert from (m/ft): \")\n",
        "      print(convert_length(value, from_unit))\n",
        "\n",
        "    elif(conversion_type == 2):\n",
        "      from_unit = input(\"Enter the unit to convert from (kg/lb): \")\n",
        "      print(convert_weight(value, from_unit))\n",
        "\n",
        "    elif(conversion_type == 3):\n",
        "      from_unit = input(\"Enter the unit to convert from (L/gal): \")\n",
        "      print(convert_volume(value, from_unit))\n",
        "\n",
        "    else:\n",
        "      print(\"Invalid choice\")\n",
        "\n",
        "\n",
        "  except ValueError as e:\n",
        "    print(f\"Error: {e}. Please enter a valid number and unit\")\n",
        "\n",
        "main()\n",
        "\n"
      ]
    },
    {
      "cell_type": "markdown",
      "source": [
        "## Task - 2:"
      ],
      "metadata": {
        "id": "fkrGIFcphQAC"
      }
    },
    {
      "cell_type": "code",
      "source": [
        "def sum_of_numbers(numbers):\n",
        "  \"\"\"\n",
        "    Calculate the sum of a list of numbers.\n",
        "    :param numbers: List of numeric values.\n",
        "    :return: Sum of the numbers.\n",
        "  \"\"\"\n",
        "  sum = 0\n",
        "  for num in numbers:\n",
        "    sum += num\n",
        "  return sum\n",
        "\n",
        "def average_of_numbers(numbers):\n",
        "  \"\"\"\n",
        "  Calculate the average of a list of numbers.\n",
        "  :param numbers: List of numeric values.\n",
        "  :return: Average of the numbers, or 0 if the list is empty.\n",
        "  \"\"\"\n",
        "  if len(numbers) == 0:\n",
        "    return 0\n",
        "  return sum_of_numbers(numbers) / len(numbers)\n",
        "\n",
        "def maximum_number(numbers):\n",
        "  \"\"\"\n",
        "  Find the maximum number in a list.\n",
        "  :param numbers: List of numeric values.\n",
        "  :return: Maximum value, or 0 if the list is empty.\n",
        "  \"\"\"\n",
        "  if len(numbers) == 0:\n",
        "    return 0\n",
        "  max = numbers[0]\n",
        "  for num in numbers:\n",
        "    if(num > max):\n",
        "      max = num\n",
        "  return max\n",
        "\n",
        "def minimum_number(numbers):\n",
        "  \"\"\"\n",
        "  Find the minimum number in a list.\n",
        "  :param numbers: List of numeric values.\n",
        "  :return: minimum value, or 0 if the list is empty.\n",
        "  \"\"\"\n",
        "  if len(numbers) == 0:\n",
        "    return 0\n",
        "  min = numbers[0]\n",
        "  for num in numbers:\n",
        "    if(num < min):\n",
        "      min = num\n",
        "  return min\n",
        "\n",
        "def main():\n",
        "  \"\"\"\n",
        "  Main function to take user input and perform selected operation.\n",
        "  \"\"\"\n",
        "  try:\n",
        "    number = [float(x) for x in input(\"Enter the numbers separated by space: \").split()]\n",
        "    operation_type = int(input(\"Choose 1 for sum, 2 for average, 3 for maximum, 4 for minimum: \"))\n",
        "\n",
        "    if(operation_type == 1):\n",
        "      print(f\"Sum of the numbers: {sum_of_numbers(number)}\")\n",
        "    elif(operation_type == 2):\n",
        "      print(f\"Average of the numbers: {average_of_numbers(number)}\")\n",
        "    elif(operation_type == 3):\n",
        "      print(f\"Maximum of the numbers: {maximum_number(number)}\")\n",
        "    elif(operation_type == 4):\n",
        "      print(f\"Minimum of the numbers: {minimum_number(number)}\")\n",
        "\n",
        "    else:\n",
        "      print(\"Invalid choice\")\n",
        "\n",
        "  except ValueError as e:\n",
        "    print(f\"Error: {e}. Please enter a valid number\")\n",
        "\n",
        "main()"
      ],
      "metadata": {
        "id": "gBC99sfrhSNi"
      },
      "execution_count": null,
      "outputs": []
    },
    {
      "cell_type": "code",
      "source": [
        "from google.colab import drive\n",
        "drive.mount('/content/drive')"
      ],
      "metadata": {
        "id": "ThLoLMMgRFSd"
      },
      "execution_count": null,
      "outputs": []
    },
    {
      "cell_type": "markdown",
      "source": [
        "# Exercise on List Manipulation:"
      ],
      "metadata": {
        "id": "xeN7jFZOmm_6"
      }
    },
    {
      "cell_type": "markdown",
      "source": [
        "## Extract Every Other Element:"
      ],
      "metadata": {
        "id": "yWExi2cZxdOb"
      }
    },
    {
      "cell_type": "code",
      "source": [
        "def extract_every_other(lst):\n",
        "  #  return lst[::2] # list[start:stop:step]\n",
        "\n",
        "  if not isinstance(lst, list):\n",
        "      raise TypeError(\"Input must be a list.\")\n",
        "  result = []\n",
        "  for i in range(0,len(lst),2):\n",
        "    result.append(lst[i])\n",
        "  return result\n",
        "\n",
        "\n",
        "try:\n",
        "    new_lst = extract_every_other([1, 2, 3, 4, 5, 6])\n",
        "    print(new_lst)\n",
        "except (TypeError, ValueError) as e:\n",
        "    print(f\"Error: {e}\")"
      ],
      "metadata": {
        "id": "N1-78fvqmn6S"
      },
      "execution_count": null,
      "outputs": []
    },
    {
      "cell_type": "markdown",
      "source": [
        "## Slice a Sublist:"
      ],
      "metadata": {
        "id": "1STOysX-4bzb"
      }
    },
    {
      "cell_type": "code",
      "source": [
        "def get_sublist(lst, start, end):\n",
        "  return lst[start:end]\n",
        "\n",
        "new_lst = get_sublist([1, 2, 3, 4, 5, 6],2, 4)\n",
        "new_lst"
      ],
      "metadata": {
        "id": "cYN_YJb_4aVU"
      },
      "execution_count": null,
      "outputs": []
    },
    {
      "cell_type": "code",
      "source": [
        "def reverse_list(lst):\n",
        "  return lst[::-1]\n",
        "reverse_list([1, 2, 3, 4, 5])"
      ],
      "metadata": {
        "id": "u7Y0EufI6pBc"
      },
      "execution_count": null,
      "outputs": []
    },
    {
      "cell_type": "markdown",
      "source": [
        "### Remove the First and Last Elements:"
      ],
      "metadata": {
        "id": "Cq1aqeF69IU1"
      }
    },
    {
      "cell_type": "code",
      "source": [
        "def remove_first_last(lst):\n",
        "  return lst[1:-1:]\n",
        "\n",
        "remove_first_last([1, 2, 3, 4, 5])"
      ],
      "metadata": {
        "id": "DPNfXyPN7yXM"
      },
      "execution_count": null,
      "outputs": []
    },
    {
      "cell_type": "markdown",
      "source": [
        "### Get the First n Elements:"
      ],
      "metadata": {
        "id": "GhVU7CP09MfF"
      }
    },
    {
      "cell_type": "code",
      "source": [
        "def get_first_n(lst, n):\n",
        "  return lst[:n]\n",
        "n = int(input(\"Enter n number to return first n element\"))\n",
        "get_first_n([1, 2, 3, 4, 5],n)"
      ],
      "metadata": {
        "id": "aOdkrfXJ9Nwk"
      },
      "execution_count": null,
      "outputs": []
    },
    {
      "cell_type": "markdown",
      "source": [
        "### Extract Elements from the End:"
      ],
      "metadata": {
        "id": "2KjgpBVpJlHV"
      }
    },
    {
      "cell_type": "code",
      "source": [
        "def get_lst_n(lst, n):\n",
        "  return lst[-n:]\n",
        "n = int(input(\"Enter number to return n last element\"))\n",
        "\n",
        "get_lst_n([1, 2, 3, 4, 5],n)"
      ],
      "metadata": {
        "id": "rjZ0fDNb-4uk"
      },
      "execution_count": null,
      "outputs": []
    },
    {
      "cell_type": "markdown",
      "source": [
        "### Extract Elements in Reverse Order"
      ],
      "metadata": {
        "id": "kD_JYw7HFRPH"
      }
    },
    {
      "cell_type": "code",
      "source": [
        "def reverse_skip(lst):\n",
        "  return lst[-2::-2]\n",
        "\n",
        "reverse_skip([1, 2, 3, 4, 5, 6])"
      ],
      "metadata": {
        "id": "lX26GNXzLwdW"
      },
      "execution_count": null,
      "outputs": []
    },
    {
      "cell_type": "markdown",
      "source": [
        "## Exercise on Nested List:"
      ],
      "metadata": {
        "id": "HEPygs4zHckZ"
      }
    },
    {
      "cell_type": "markdown",
      "source": [
        "### Flatten a Nested List:"
      ],
      "metadata": {
        "id": "z7Tz_UWaO6gI"
      }
    },
    {
      "cell_type": "code",
      "source": [
        "def flatten(lst):\n",
        "\n",
        "  flat_list = []\n",
        "\n",
        "  for sublist in lst:\n",
        "    if isinstance(sublist, list):\n",
        "      flat_list.extend(sublist)\n",
        "    else:\n",
        "      flat_list.append(sublist)\n",
        "  return flat_list\n",
        "\n",
        "nested_list = [[1, 2], [3, 4], [5]]\n",
        "print(flatten(nested_list))"
      ],
      "metadata": {
        "id": "SosFLh6OHdoS"
      },
      "execution_count": null,
      "outputs": []
    },
    {
      "cell_type": "code",
      "source": [
        "def access_nested_element(lst, indices):\n",
        "  return lst[indices[0]][indices[1]]\n",
        "\n",
        "access_nested_element( [[1, 2, 3], [4, 5, 6], [7, 8, 9]], [1,2])"
      ],
      "metadata": {
        "id": "I5Lf_5iDcoO6"
      },
      "execution_count": null,
      "outputs": []
    },
    {
      "cell_type": "code",
      "source": [
        "def sum_nested(lst):\n",
        "  total = 0\n",
        "  for item in lst:\n",
        "    if isinstance(item, list):\n",
        "        total += sum_nested(item)\n",
        "    else:\n",
        "        total += item\n",
        "  return total\n",
        "\n",
        "\n",
        "nested_list = [[1, 2], [3, [4, 5]], 6]\n",
        "print(sum_nested(nested_list))\n"
      ],
      "metadata": {
        "id": "5OuKg9fad4Ri"
      },
      "execution_count": null,
      "outputs": []
    },
    {
      "cell_type": "code",
      "source": [
        "def remove_element(lst, elm):\n",
        "  for i, sublist in enumerate(lst):\n",
        "    for j, num in enumerate(sublist):\n",
        "      if num == 2:\n",
        "        lst[i].pop(j)\n",
        "\n",
        "  return lst\n",
        "\n",
        "remove_element([[1, 2], [3, 2], [4, 5]], 2)"
      ],
      "metadata": {
        "id": "T6a9PCO1hYYz"
      },
      "execution_count": null,
      "outputs": []
    },
    {
      "cell_type": "code",
      "source": [
        "def find_max(lst):\n",
        "    max_value = float('-inf')  # Initialize with negative infinity\n",
        "\n",
        "    for item in lst:\n",
        "        if isinstance(item, list):\n",
        "            max_value = max(max_value, find_max(item))  # Recursively find max\n",
        "        else:\n",
        "            max_value = max(max_value, item)  # Compare numbers\n",
        "\n",
        "    return max_value\n",
        "\n",
        "\n",
        "nested_list = [[1, 2], [3, [4, 5]], 6]\n",
        "find_max(nested_list)\n"
      ],
      "metadata": {
        "id": "kxmeHd7kkxBK"
      },
      "execution_count": null,
      "outputs": []
    },
    {
      "cell_type": "code",
      "source": [
        "def count_cccurrences(lst, elem):\n",
        "  count = 0\n",
        "  for item in lst:\n",
        "    if isinstance(item,list):\n",
        "      for num in item:\n",
        "        if elem == num:\n",
        "          count +=1\n",
        "    else:\n",
        "      if elem == item:\n",
        "        count +=1\n",
        "\n",
        "  return count\n",
        "\n",
        "lst =  [[1, 2], [2, 3], [2, 4]]\n",
        "count_cccurrences(lst,2)"
      ],
      "metadata": {
        "id": "p79p1fdImmnM"
      },
      "execution_count": null,
      "outputs": []
    },
    {
      "cell_type": "code",
      "source": [
        "def deep_flatten(lst):\n",
        "    flat_list = []\n",
        "    for item in lst:\n",
        "        if isinstance(item, list):  # If item is a list, recursively flatten it\n",
        "            flat_list.extend(deep_flatten(item))\n",
        "        else:\n",
        "            flat_list.append(item)  # Append non-list elements directly\n",
        "    return flat_list\n",
        "\n",
        "\n",
        "nested_list = [[[1, 2], [3, 4]], [[5, 6], [7, 8]]]\n",
        "deep_flatten(nested_list)\n"
      ],
      "metadata": {
        "id": "RWsnh6L-opG7"
      },
      "execution_count": null,
      "outputs": []
    },
    {
      "cell_type": "code",
      "source": [
        "def deep_flatten(lst):\n",
        "    flat_list = []\n",
        "    for item in lst:\n",
        "        if isinstance(item, list):  # If item is a list, recursively flatten it\n",
        "            flat_list.extend(deep_flatten(item))\n",
        "        else:\n",
        "            flat_list.append(item)  # Append non-list elements directly\n",
        "    return flat_list\n",
        "\n",
        "\n",
        "nested_list =[[1, 2], [3, 4], [5, 6]]\n",
        "new_list = deep_flatten(nested_list)\n",
        "\n",
        "sum(new_list)/len(new_list)\n"
      ],
      "metadata": {
        "id": "WOhijj0Xpsoz"
      },
      "execution_count": null,
      "outputs": []
    },
    {
      "cell_type": "markdown",
      "source": [
        "# NumPy"
      ],
      "metadata": {
        "id": "Dwk3NvAKqj4M"
      }
    },
    {
      "cell_type": "markdown",
      "source": [
        "## Basic Vector and Matrix Operation with Numpy"
      ],
      "metadata": {
        "id": "mXE86lj2qEoP"
      }
    },
    {
      "cell_type": "markdown",
      "source": [
        "### Problem - 1: Array Creation:"
      ],
      "metadata": {
        "id": "IZM9IQWWqOgd"
      }
    },
    {
      "cell_type": "code",
      "source": [
        "import numpy as np"
      ],
      "metadata": {
        "id": "B6lr7DzJqlgD"
      },
      "execution_count": null,
      "outputs": []
    },
    {
      "cell_type": "markdown",
      "source": [
        "**Initialize an empty array with size 2X2**"
      ],
      "metadata": {
        "id": "kpM6XdbtqfPN"
      }
    },
    {
      "cell_type": "code",
      "source": [
        "empty_array = np.empty((2,2))\n",
        "empty_array"
      ],
      "metadata": {
        "id": "oT9jwPKMqbM-"
      },
      "execution_count": null,
      "outputs": []
    },
    {
      "cell_type": "markdown",
      "source": [
        "**Initialize an all-one array with size 4X2**"
      ],
      "metadata": {
        "id": "ZY8WQ0l3qsfG"
      }
    },
    {
      "cell_type": "code",
      "source": [
        "one_array = np.ones((4,2))\n",
        "print(one_array)"
      ],
      "metadata": {
        "id": "SXKtYxYUqvJF"
      },
      "execution_count": null,
      "outputs": []
    },
    {
      "cell_type": "markdown",
      "source": [
        "**Return a new array of given shape and type, filled with fill value**"
      ],
      "metadata": {
        "id": "5m0RfIOqrDZu"
      }
    },
    {
      "cell_type": "code",
      "source": [
        "fill_value_array = np.full((3,2), 7) #create 3X2 size of matrix with value 7 on each\n",
        "fill_value_array"
      ],
      "metadata": {
        "id": "43HArcqqrEQl"
      },
      "execution_count": null,
      "outputs": []
    },
    {
      "cell_type": "markdown",
      "source": [
        "Return a new array of zeros with same shape and type as a given array"
      ],
      "metadata": {
        "id": "57qqLP2qraX2"
      }
    },
    {
      "cell_type": "code",
      "source": [
        "sample_array = np.array([[4, 5], [6, 7]])\n",
        "print(sample_array)\n",
        "print(\"\\nZero Array:\")\n",
        "zero_array = np.zeros_like(sample_array)\n",
        "print(zero_array)"
      ],
      "metadata": {
        "id": "rF6ZfzN1rcnu"
      },
      "execution_count": null,
      "outputs": []
    },
    {
      "cell_type": "markdown",
      "source": [
        "**Return a new array of ones with same shape and type as a given array**"
      ],
      "metadata": {
        "id": "0zFXqiR-sRl_"
      }
    },
    {
      "cell_type": "code",
      "source": [
        "ones_like_array = np.ones_like(sample_array)\n",
        "ones_like_array"
      ],
      "metadata": {
        "id": "KImIBGUbsTxH"
      },
      "execution_count": null,
      "outputs": []
    },
    {
      "cell_type": "markdown",
      "source": [
        "**Convert an existing list to a NumPy array**"
      ],
      "metadata": {
        "id": "0EmkdjAAshkG"
      }
    },
    {
      "cell_type": "code",
      "source": [
        "new_list = [1, 2, 3, 4]\n",
        "numpy_array = np.array(new_list)\n",
        "numpy_array"
      ],
      "metadata": {
        "id": "vTTfSSOosf4u"
      },
      "execution_count": null,
      "outputs": []
    },
    {
      "cell_type": "markdown",
      "source": [
        "### Problem - 2: Array Manipulation: Numerical Ranges and Array indexing:"
      ],
      "metadata": {
        "id": "C9azhZXZsyDF"
      }
    },
    {
      "cell_type": "markdown",
      "source": [
        "**Create an array with values ranging from 10 to 49**"
      ],
      "metadata": {
        "id": "9pXY6_w2s0Y-"
      }
    },
    {
      "cell_type": "code",
      "source": [
        "array_10_49 = np.arange(10, 50)\n",
        "array_10_49"
      ],
      "metadata": {
        "id": "hc8yxlsvty-e"
      },
      "execution_count": null,
      "outputs": []
    },
    {
      "cell_type": "markdown",
      "source": [
        "# Create a 3X3 matrix with values ranging from 0 to 8."
      ],
      "metadata": {
        "id": "L-mO8msIvlve"
      }
    },
    {
      "cell_type": "code",
      "source": [
        "matrix_3x3 = np.arange(9).reshape(3, 3)\n",
        "matrix_3x3"
      ],
      "metadata": {
        "id": "wATTgCU-vmq2"
      },
      "execution_count": null,
      "outputs": []
    },
    {
      "cell_type": "markdown",
      "source": [
        "Create a 3X3 identity matrix.{Hint:np.eye()}\n",
        "**bold text**"
      ],
      "metadata": {
        "id": "t50bUKzRvm_2"
      }
    },
    {
      "cell_type": "code",
      "source": [
        "identity_matrix = np.eye(3)\n",
        "identity_matrix"
      ],
      "metadata": {
        "id": "U90EjAcVv3wv"
      },
      "execution_count": null,
      "outputs": []
    },
    {
      "cell_type": "markdown",
      "source": [
        "Create a random array of size 30 and find the mean of the array.\n",
        "{Hint:check for np.random.random() and array.mean() function} **bold text**"
      ],
      "metadata": {
        "id": "ybd-Ppv3vqy3"
      }
    },
    {
      "cell_type": "code",
      "source": [
        "random_array = np.random.random(30)\n",
        "random_array.mean()"
      ],
      "metadata": {
        "id": "hEEZarPbv4Su"
      },
      "execution_count": null,
      "outputs": []
    },
    {
      "cell_type": "markdown",
      "source": [
        "**Create a 10X10 array with random values and find the minimum and maximum values.**"
      ],
      "metadata": {
        "id": "37S7sDVivsiW"
      }
    },
    {
      "cell_type": "code",
      "source": [
        "random_matrix  = np.random.random((10,10))\n",
        "# print(random_matrix)\n",
        "print(f\"Minimum value: {random_matrix.min()}\")\n",
        "print(f\"Maximum value: {random_matrix.max()}\")"
      ],
      "metadata": {
        "id": "5rTN3WD_v43f"
      },
      "execution_count": null,
      "outputs": []
    },
    {
      "cell_type": "markdown",
      "source": [
        "**Create a zero array of size 10 and replace 5th element with 1.**"
      ],
      "metadata": {
        "id": "ktbTpKsRvtmm"
      }
    },
    {
      "cell_type": "code",
      "source": [
        "zero_array  = np.zeros(10)\n",
        "zero_array[4] = 1\n",
        "zero_array"
      ],
      "metadata": {
        "id": "qIJ0cq6Rv5TX"
      },
      "execution_count": null,
      "outputs": []
    },
    {
      "cell_type": "markdown",
      "source": [
        "**Reverse an array arr = [1,2,0,0,4,0].**"
      ],
      "metadata": {
        "id": "i3YLhFoYvvze"
      }
    },
    {
      "cell_type": "code",
      "source": [
        "arr = np.array([1,2,0,0,4,0])\n",
        "reversed_arr = arr[::-1]\n",
        "reversed_arr"
      ],
      "metadata": {
        "id": "5Az5i-xcv52e"
      },
      "execution_count": null,
      "outputs": []
    },
    {
      "cell_type": "markdown",
      "source": [
        "**Create a 2d array with 1 on border and 0 inside.**"
      ],
      "metadata": {
        "id": "d5YG14hjvx2m"
      }
    },
    {
      "cell_type": "code",
      "source": [
        "boarder_array = np.ones((5,5))\n",
        "boarder_array[1:-1, 1:-1] = 0\n",
        "boarder_array"
      ],
      "metadata": {
        "id": "Fc5EwCfSv6e3"
      },
      "execution_count": null,
      "outputs": []
    },
    {
      "cell_type": "markdown",
      "source": [
        "**Create a 8X8 matrix and fill it with a checkerboard pattern.**"
      ],
      "metadata": {
        "id": "4PLK7XDkv0cu"
      }
    },
    {
      "cell_type": "code",
      "source": [
        "checkerboard = np.zeros((8, 8), dtype=int)\n",
        "checkerboard[1::2, ::2] = 1\n",
        "checkerboard[::2, 1::2] = 1\n",
        "\n",
        "checkerboard"
      ],
      "metadata": {
        "id": "EAYStp-Wv69G"
      },
      "execution_count": null,
      "outputs": []
    },
    {
      "cell_type": "markdown",
      "source": [
        "### Problem - 3: Array Operations:\n"
      ],
      "metadata": {
        "id": "SQ3UyuI_1s3u"
      }
    },
    {
      "cell_type": "code",
      "source": [
        "x = np.array([[1, 2], [3, 5]])\n",
        "y = np.array([[5, 6], [7, 8]])\n",
        "v = np.array([9, 10])\n",
        "w = np.array([11, 12])"
      ],
      "metadata": {
        "id": "q3hNuao-1vNX"
      },
      "execution_count": null,
      "outputs": []
    },
    {
      "cell_type": "code",
      "source": [
        "x+y"
      ],
      "metadata": {
        "id": "zU4L4SaN3O-3"
      },
      "execution_count": null,
      "outputs": []
    },
    {
      "cell_type": "code",
      "source": [
        "x-y"
      ],
      "metadata": {
        "id": "U5sm-wa43V4m"
      },
      "execution_count": null,
      "outputs": []
    },
    {
      "cell_type": "code",
      "source": [
        "x*3"
      ],
      "metadata": {
        "id": "D0HLcQOG3Yyu"
      },
      "execution_count": null,
      "outputs": []
    },
    {
      "cell_type": "code",
      "source": [
        "np.square(x)"
      ],
      "metadata": {
        "id": "D6CMTyfX3diu"
      },
      "execution_count": null,
      "outputs": []
    },
    {
      "cell_type": "code",
      "source": [
        "dot_vw = np.dot(v, w)  # Dot product of v and w\n",
        "dot_xv = np.dot(x, v)  # Dot product of x and v\n",
        "dot_xy = np.dot(x, y)  # Dot product of x and y\n",
        "\n",
        "print(\"\\nDot product of v and w:\", dot_vw)\n",
        "print(\"\\nDot product of x and v:\\n\", dot_xv)\n",
        "print(\"\\nDot product of x and y:\\n\", dot_xy)"
      ],
      "metadata": {
        "id": "ysiUVQYL3y8_"
      },
      "execution_count": null,
      "outputs": []
    },
    {
      "cell_type": "code",
      "source": [
        "print(x)\n",
        "print(\"\\n\")\n",
        "print(y)"
      ],
      "metadata": {
        "id": "PXrh6hZ84Eq_"
      },
      "execution_count": null,
      "outputs": []
    },
    {
      "cell_type": "code",
      "source": [
        "# 6. Concatenate x and y along rows\n",
        "concat_xy = np.concatenate((x, y), axis=0)\n",
        "print(\"\\nConcatenation of x and y along rows:\\n\", concat_xy)\n",
        "\n",
        "# Concatenate v and w along columns\n",
        "concat_vw = np.vstack((v, w))\n",
        "print(\"\\nConcatenation of v and w along columns:\\n\", concat_vw)\n"
      ],
      "metadata": {
        "id": "UwZQWsey4BjX"
      },
      "execution_count": null,
      "outputs": []
    },
    {
      "cell_type": "code",
      "source": [
        "# 7. Concatenating x and v\n",
        "try:\n",
        "    concat_xv = np.concatenate((x, v), axis=0)\n",
        "    print(\"\\nConcatenation of x and v:\\n\", concat_xv)\n",
        "except ValueError as e:\n",
        "    print(\"\\nError while concatenating x and v:\", e)"
      ],
      "metadata": {
        "id": "h0zh12DD4ntH"
      },
      "execution_count": null,
      "outputs": []
    },
    {
      "cell_type": "markdown",
      "source": [],
      "metadata": {
        "id": "736OrBPY6EnP"
      }
    },
    {
      "cell_type": "markdown",
      "source": [
        "### Problem - 4: Matrix Operations:"
      ],
      "metadata": {
        "id": "O3XahNUu41aY"
      }
    },
    {
      "cell_type": "markdown",
      "source": [
        "1. Prove\n",
        "𝐴\n",
        "⋅\n",
        "𝐴\n",
        "−\n",
        "1\n",
        "=\n",
        "𝐼\n",
        "A⋅A\n",
        "−1\n",
        " =I"
      ],
      "metadata": {
        "id": "nHOfD3il6Fio"
      }
    },
    {
      "cell_type": "code",
      "source": [
        "A = np.array([[3, 4], [7, 8]])\n",
        "\n",
        "# Compute the inverse of A\n",
        "A_inv = np.linalg.inv(A)\n",
        "\n",
        "# Multiply A by its inverse\n",
        "I = np.dot(A, A_inv)\n",
        "\n",
        "# Print results\n",
        "print(\"A * A^-1:\\n\", I)\n",
        "\n",
        "# Check if it's an identity matrix\n",
        "print(\"\\nIs A * A^-1 approximately equal to I? \", np.allclose(I, np.eye(2)))\n"
      ],
      "metadata": {
        "id": "3TnDMzxA426Y"
      },
      "execution_count": null,
      "outputs": []
    },
    {
      "cell_type": "markdown",
      "source": [
        "**To prove matrix multiplication is not commutative, we compute:**\n",
        "\n",
        "𝐴\n",
        "𝐵\n",
        "AB (A multiplied by B)\n",
        "𝐵\n",
        "𝐴\n",
        "BA (B multiplied by A)\n",
        "Check if\n",
        "𝐴\n",
        "𝐵\n",
        "=\n",
        "𝐵\n",
        "𝐴\n",
        "AB=BA\n"
      ],
      "metadata": {
        "id": "WyyxLkg_5tjI"
      }
    },
    {
      "cell_type": "code",
      "source": [
        "B = np.array([[5, 3], [2, 1]])\n",
        "\n",
        "# Compute AB and BA\n",
        "AB = np.dot(A, B)\n",
        "BA = np.dot(B, A)\n",
        "\n",
        "# Print results\n",
        "print(\"\\nAB:\\n\", AB)\n",
        "print(\"\\nBA:\\n\", BA)\n",
        "\n",
        "# Check if they are equal\n",
        "print(\"\\nIs AB equal to BA? \", np.array_equal(AB, BA))\n"
      ],
      "metadata": {
        "id": "k7AiSckm5vKA"
      },
      "execution_count": null,
      "outputs": []
    },
    {
      "cell_type": "markdown",
      "source": [
        "Prove\n",
        "(\n",
        "𝐴\n",
        "𝐵\n",
        ")\n",
        "𝑇\n",
        "=\n",
        "𝐵\n",
        "𝑇\n",
        "𝐴\n",
        "𝑇\n",
        "(AB)\n",
        "T\n",
        " =B\n",
        "T\n",
        " A\n",
        "T\n",
        "\n",
        "The transpose of a product of two matrices follows the rule:\n",
        "\n",
        "(\n",
        "𝐴\n",
        "𝐵\n",
        ")\n",
        "𝑇\n",
        "=\n",
        "𝐵\n",
        "𝑇\n",
        "𝐴\n",
        "𝑇\n",
        "(AB)\n",
        "T\n",
        " =B\n",
        "T\n",
        " A\n",
        "T"
      ],
      "metadata": {
        "id": "qWSvGbVZ6Vvo"
      }
    },
    {
      "cell_type": "code",
      "source": [
        "# Compute (AB)^T\n",
        "AB_T = np.transpose(AB)\n",
        "\n",
        "# Compute B^T and A^T\n",
        "B_T = np.transpose(B)\n",
        "A_T = np.transpose(A)\n",
        "\n",
        "# Compute B^T A^T\n",
        "BT_AT = np.dot(B_T, A_T)\n",
        "\n",
        "# Print results\n",
        "print(\"\\n(AB)^T:\\n\", AB_T)\n",
        "print(\"\\nB^T A^T:\\n\", BT_AT)\n",
        "\n",
        "# Check if they are equal\n",
        "print(\"\\nIs (AB)^T equal to B^T A^T? \", np.array_equal(AB_T, BT_AT))\n"
      ],
      "metadata": {
        "id": "yc55VZbt5zb4"
      },
      "execution_count": null,
      "outputs": []
    },
    {
      "cell_type": "markdown",
      "source": [
        "Solving the Linear System Using the Inverse Method\n"
      ],
      "metadata": {
        "id": "8pTMkNsc6bzo"
      }
    },
    {
      "cell_type": "code",
      "source": [
        "# Define matrix A (coefficients)\n",
        "A = np.array([[2, -3, 1], [1, -1, 2], [3, 1, -1]])\n",
        "\n",
        "# Define matrix B (constants)\n",
        "B = np.array([-1, -3, 9])\n",
        "\n",
        "# Solve for X using inverse\n",
        "A_inv = np.linalg.inv(A)  # Compute inverse of A\n",
        "X = np.dot(A_inv, B)  # Compute X\n",
        "\n",
        "# Print results\n",
        "print(\"\\nSolution for x, y, z:\\n\", X)\n"
      ],
      "metadata": {
        "id": "ivWtCooW52yQ"
      },
      "execution_count": null,
      "outputs": []
    },
    {
      "cell_type": "markdown",
      "source": [
        "Solving Using np.linalg.solve"
      ],
      "metadata": {
        "id": "V1ZQSrFO6grC"
      }
    },
    {
      "cell_type": "code",
      "source": [
        "# Solve directly using np.linalg.solve\n",
        "X_solve = np.linalg.solve(A, B)\n",
        "\n",
        "# Print results\n",
        "print(\"\\nSolution using np.linalg.solve:\\n\", X_solve)\n"
      ],
      "metadata": {
        "id": "7zpH2ZwD5424"
      },
      "execution_count": null,
      "outputs": []
    }
  ]
}